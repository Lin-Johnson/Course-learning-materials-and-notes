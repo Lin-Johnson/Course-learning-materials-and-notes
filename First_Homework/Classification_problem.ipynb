{
 "cells": [
  {
   "cell_type": "markdown",
   "id": "935f3efd",
   "metadata": {},
   "source": [
    "# 分类问题"
   ]
  },
  {
   "cell_type": "code",
   "execution_count": 1,
   "id": "b7de113a",
   "metadata": {},
   "outputs": [
    {
     "data": {
      "text/html": [
       "<div>\n",
       "<style scoped>\n",
       "    .dataframe tbody tr th:only-of-type {\n",
       "        vertical-align: middle;\n",
       "    }\n",
       "\n",
       "    .dataframe tbody tr th {\n",
       "        vertical-align: top;\n",
       "    }\n",
       "\n",
       "    .dataframe thead th {\n",
       "        text-align: right;\n",
       "    }\n",
       "</style>\n",
       "<table border=\"1\" class=\"dataframe\">\n",
       "  <thead>\n",
       "    <tr style=\"text-align: right;\">\n",
       "      <th></th>\n",
       "      <th>column_a</th>\n",
       "      <th>column_b</th>\n",
       "      <th>column_c</th>\n",
       "      <th>column_d</th>\n",
       "      <th>column_e</th>\n",
       "      <th>column_f</th>\n",
       "      <th>column_g</th>\n",
       "      <th>column_h</th>\n",
       "      <th>column_i</th>\n",
       "      <th>column_j</th>\n",
       "      <th>...</th>\n",
       "      <th>column_z</th>\n",
       "      <th>column_aa</th>\n",
       "      <th>column_ab</th>\n",
       "      <th>column_ac</th>\n",
       "      <th>column_ad</th>\n",
       "      <th>column_ae</th>\n",
       "      <th>column_af</th>\n",
       "      <th>column_ag</th>\n",
       "      <th>column_ah</th>\n",
       "      <th>column_ai</th>\n",
       "    </tr>\n",
       "  </thead>\n",
       "  <tbody>\n",
       "    <tr>\n",
       "      <th>0</th>\n",
       "      <td>1</td>\n",
       "      <td>0</td>\n",
       "      <td>0.99539</td>\n",
       "      <td>-0.05889</td>\n",
       "      <td>0.85243</td>\n",
       "      <td>0.02306</td>\n",
       "      <td>0.83398</td>\n",
       "      <td>-0.37708</td>\n",
       "      <td>1.00000</td>\n",
       "      <td>0.03760</td>\n",
       "      <td>...</td>\n",
       "      <td>-0.51171</td>\n",
       "      <td>0.41078</td>\n",
       "      <td>-0.46168</td>\n",
       "      <td>0.21266</td>\n",
       "      <td>-0.34090</td>\n",
       "      <td>0.42267</td>\n",
       "      <td>-0.54487</td>\n",
       "      <td>0.18641</td>\n",
       "      <td>-0.45300</td>\n",
       "      <td>1</td>\n",
       "    </tr>\n",
       "    <tr>\n",
       "      <th>1</th>\n",
       "      <td>1</td>\n",
       "      <td>0</td>\n",
       "      <td>1.00000</td>\n",
       "      <td>-0.18829</td>\n",
       "      <td>0.93035</td>\n",
       "      <td>-0.36156</td>\n",
       "      <td>-0.10868</td>\n",
       "      <td>-0.93597</td>\n",
       "      <td>1.00000</td>\n",
       "      <td>-0.04549</td>\n",
       "      <td>...</td>\n",
       "      <td>-0.26569</td>\n",
       "      <td>-0.20468</td>\n",
       "      <td>-0.18401</td>\n",
       "      <td>-0.19040</td>\n",
       "      <td>-0.11593</td>\n",
       "      <td>-0.16626</td>\n",
       "      <td>-0.06288</td>\n",
       "      <td>-0.13738</td>\n",
       "      <td>-0.02447</td>\n",
       "      <td>0</td>\n",
       "    </tr>\n",
       "    <tr>\n",
       "      <th>2</th>\n",
       "      <td>1</td>\n",
       "      <td>0</td>\n",
       "      <td>1.00000</td>\n",
       "      <td>-0.03365</td>\n",
       "      <td>1.00000</td>\n",
       "      <td>0.00485</td>\n",
       "      <td>1.00000</td>\n",
       "      <td>-0.12062</td>\n",
       "      <td>0.88965</td>\n",
       "      <td>0.01198</td>\n",
       "      <td>...</td>\n",
       "      <td>-0.40220</td>\n",
       "      <td>0.58984</td>\n",
       "      <td>-0.22145</td>\n",
       "      <td>0.43100</td>\n",
       "      <td>-0.17365</td>\n",
       "      <td>0.60436</td>\n",
       "      <td>-0.24180</td>\n",
       "      <td>0.56045</td>\n",
       "      <td>-0.38238</td>\n",
       "      <td>1</td>\n",
       "    </tr>\n",
       "    <tr>\n",
       "      <th>3</th>\n",
       "      <td>1</td>\n",
       "      <td>0</td>\n",
       "      <td>1.00000</td>\n",
       "      <td>-0.45161</td>\n",
       "      <td>1.00000</td>\n",
       "      <td>1.00000</td>\n",
       "      <td>0.71216</td>\n",
       "      <td>-1.00000</td>\n",
       "      <td>0.00000</td>\n",
       "      <td>0.00000</td>\n",
       "      <td>...</td>\n",
       "      <td>0.90695</td>\n",
       "      <td>0.51613</td>\n",
       "      <td>1.00000</td>\n",
       "      <td>1.00000</td>\n",
       "      <td>-0.20099</td>\n",
       "      <td>0.25682</td>\n",
       "      <td>1.00000</td>\n",
       "      <td>-0.32382</td>\n",
       "      <td>1.00000</td>\n",
       "      <td>0</td>\n",
       "    </tr>\n",
       "    <tr>\n",
       "      <th>4</th>\n",
       "      <td>1</td>\n",
       "      <td>0</td>\n",
       "      <td>1.00000</td>\n",
       "      <td>-0.02401</td>\n",
       "      <td>0.94140</td>\n",
       "      <td>0.06531</td>\n",
       "      <td>0.92106</td>\n",
       "      <td>-0.23255</td>\n",
       "      <td>0.77152</td>\n",
       "      <td>-0.16399</td>\n",
       "      <td>...</td>\n",
       "      <td>-0.65158</td>\n",
       "      <td>0.13290</td>\n",
       "      <td>-0.53206</td>\n",
       "      <td>0.02431</td>\n",
       "      <td>-0.62197</td>\n",
       "      <td>-0.05707</td>\n",
       "      <td>-0.59573</td>\n",
       "      <td>-0.04608</td>\n",
       "      <td>-0.65697</td>\n",
       "      <td>1</td>\n",
       "    </tr>\n",
       "  </tbody>\n",
       "</table>\n",
       "<p>5 rows × 35 columns</p>\n",
       "</div>"
      ],
      "text/plain": [
       "   column_a  column_b  column_c  column_d  column_e  column_f  column_g  \\\n",
       "0         1         0   0.99539  -0.05889   0.85243   0.02306   0.83398   \n",
       "1         1         0   1.00000  -0.18829   0.93035  -0.36156  -0.10868   \n",
       "2         1         0   1.00000  -0.03365   1.00000   0.00485   1.00000   \n",
       "3         1         0   1.00000  -0.45161   1.00000   1.00000   0.71216   \n",
       "4         1         0   1.00000  -0.02401   0.94140   0.06531   0.92106   \n",
       "\n",
       "   column_h  column_i  column_j  ...  column_z  column_aa  column_ab  \\\n",
       "0  -0.37708   1.00000   0.03760  ...  -0.51171    0.41078   -0.46168   \n",
       "1  -0.93597   1.00000  -0.04549  ...  -0.26569   -0.20468   -0.18401   \n",
       "2  -0.12062   0.88965   0.01198  ...  -0.40220    0.58984   -0.22145   \n",
       "3  -1.00000   0.00000   0.00000  ...   0.90695    0.51613    1.00000   \n",
       "4  -0.23255   0.77152  -0.16399  ...  -0.65158    0.13290   -0.53206   \n",
       "\n",
       "   column_ac  column_ad  column_ae  column_af  column_ag  column_ah  column_ai  \n",
       "0    0.21266   -0.34090    0.42267   -0.54487    0.18641   -0.45300          1  \n",
       "1   -0.19040   -0.11593   -0.16626   -0.06288   -0.13738   -0.02447          0  \n",
       "2    0.43100   -0.17365    0.60436   -0.24180    0.56045   -0.38238          1  \n",
       "3    1.00000   -0.20099    0.25682    1.00000   -0.32382    1.00000          0  \n",
       "4    0.02431   -0.62197   -0.05707   -0.59573   -0.04608   -0.65697          1  \n",
       "\n",
       "[5 rows x 35 columns]"
      ]
     },
     "execution_count": 1,
     "metadata": {},
     "output_type": "execute_result"
    }
   ],
   "source": [
    "import sklearn\n",
    "import pandas as pd\n",
    "import numpy as np\n",
    "import matplotlib.pyplot as plt\n",
    "import seaborn as sns\n",
    "from sklearn.metrics import confusion_matrix\n",
    "import matplotlib.pyplot as plt\n",
    "\n",
    "## 读取数据\n",
    "datapath = \"\"\n",
    "data = pd.read_csv(datapath + \"ionosphere_data.csv\")\n",
    "\n",
    "## data processing\n",
    "data.replace({\"column_a\":{True:1,False:0},\"column_b\":{True:1,False:0},\"column_ai\":{'g':1,'b':0}},inplace=True)\n",
    "\n",
    "data.head()"
   ]
  },
  {
   "cell_type": "code",
   "execution_count": 2,
   "id": "5ce7d4b9",
   "metadata": {},
   "outputs": [],
   "source": [
    "# 将x属性和y属性分开\n",
    "y = data['column_ai'].copy()\n",
    "x = data.drop('column_ai', axis=1)"
   ]
  },
  {
   "cell_type": "markdown",
   "id": "4617cd49",
   "metadata": {},
   "source": [
    "## SVM模型"
   ]
  },
  {
   "cell_type": "code",
   "execution_count": 3,
   "id": "5f08a7c0",
   "metadata": {},
   "outputs": [
    {
     "name": "stdout",
     "output_type": "stream",
     "text": [
      "RMSE: 0.23658582465035835\n"
     ]
    }
   ],
   "source": [
    "from sklearn.model_selection import KFold\n",
    "from sklearn.metrics import mean_squared_error as MSE\n",
    "from math import sqrt\n",
    "from sklearn.linear_model import LinearRegression\n",
    "from sklearn.tree import DecisionTreeClassifier\n",
    "from sklearn.svm import LinearSVR\n",
    "from sklearn.svm import SVC\n",
    "\n",
    "\n",
    "# 10折交叉验证\n",
    "k_fold = KFold(n_splits=10,shuffle=True,random_state=42)\n",
    "\n",
    "# SVM模型\n",
    "RMSE = []\n",
    "\n",
    "for train_index, test_index in k_fold.split(x):\n",
    "    train_x, test_x = x.iloc[train_index], x.iloc[test_index]\n",
    "    train_y, test_y = y[train_index], y[test_index]\n",
    "    \n",
    "    SVCModel = SVC()\n",
    "    SVCModel = SVCModel.fit(train_x,train_y)\n",
    "    y_pre = SVCModel.predict(test_x)\n",
    "    RMSE.append(sqrt(MSE(y_pre,test_y)))\n",
    "\n",
    "print(\"RMSE:\",sum(RMSE) / len(RMSE))"
   ]
  },
  {
   "cell_type": "code",
   "execution_count": 4,
   "id": "7186aa6a",
   "metadata": {},
   "outputs": [
    {
     "name": "stdout",
     "output_type": "stream",
     "text": [
      "[1 1 1 1 1 1 1 1 1 1 0 0 0 0 1 1 1 0 1 0 1 0 0 1 1 1 0 0 0 1 1 1 1 1 1 0 1\n",
      " 1 0 1 1 1 1 0 1 0 0 1 1 1 1 0 0 1 0 1 1 1 1 0 0 1 0 1 1 1 1 1 1 1 0]\n"
     ]
    }
   ],
   "source": [
    "# 从sklearn包里加载train_test_split函数，用于直接分训练集和测试集\n",
    "from sklearn.model_selection import train_test_split\n",
    "# 使用train_test_split函数将数据分为80%的训练集和20%的测试集，其中random_state参数为随机生成器种子\n",
    "train_set, test_set = train_test_split(data, test_size=0.2, random_state=42)\n",
    "\n",
    "y_train = train_set['column_ai'].copy()\n",
    "x_train = train_set.drop('column_ai', axis=1)\n",
    "y_test = test_set['column_ai'].copy()\n",
    "x_test = test_set.drop('column_ai', axis=1)\n",
    "\n",
    "SVCModel = SVC()\n",
    "SVCModel = SVCModel.fit(x_train,y_train)\n",
    "y_pre = SVCModel.predict(x_test)\n",
    "print(y_pre)"
   ]
  },
  {
   "cell_type": "code",
   "execution_count": 5,
   "id": "15a2ad19",
   "metadata": {},
   "outputs": [
    {
     "name": "stdout",
     "output_type": "stream",
     "text": [
      "RMSE = 0.2653724462171376\n",
      "\n",
      "Accuracy = 0.9295774647887324 \n",
      "Precision = 0.8958333333333334 \n",
      "Recall = 1.0 \n",
      "F1 = 0.945054945054945\n"
     ]
    }
   ],
   "source": [
    "# 计算混淆矩阵\n",
    "def compute_confusion_matrix(precited,expected):\n",
    "    part = precited ^ expected             # 对结果进行分类，亦或使得判断正确的为0,判断错误的为1\n",
    "    pcount = np.bincount(part)             # 分类结果统计，pcount[0]为0的个数，pcount[1]为1的个数\n",
    "    tp_list = list(precited & expected)    # 将TP的计算结果转换为list\n",
    "    fp_list = list(precited & ~expected)   # 将FP的计算结果转换为list\n",
    "    tp = tp_list.count(1)\n",
    "    fp = fp_list.count(1)\n",
    "    tn = pcount[0] - tp\n",
    "    fn = pcount[1] - fp\n",
    "    return tp, fp, tn, fn\n",
    "\n",
    "# 计算常用指标\n",
    "def compute_indexes(tp, fp, tn, fn):\n",
    "    accuracy = (tp+tn) / (tp+tn+fp+fn)     # 准确率\n",
    "    precision = tp / (tp+fp)               # 精确率\n",
    "    recall = tp / (tp+fn)                  # 召回率\n",
    "    F1 = (2*precision*recall) / (precision+recall)    # F1\n",
    "    return accuracy, precision, recall, F1\n",
    "\n",
    "tp, fp, tn, fn = compute_confusion_matrix(y_pre, y_test)\n",
    "accuracy, precision, recall, F1 = compute_indexes(tp, fp, tn, fn)\n",
    "print(\"RMSE =\",sqrt(MSE(y_pre,y_test)))\n",
    "print(\"\\nAccuracy =\",accuracy, \"\\nPrecision =\",precision, \"\\nRecall =\",recall, \"\\nF1 =\",F1)"
   ]
  },
  {
   "cell_type": "code",
   "execution_count": 6,
   "id": "684e9932",
   "metadata": {},
   "outputs": [
    {
     "data": {
      "text/plain": [
       "Text(30.5, 0.5, 'True label')"
      ]
     },
     "execution_count": 6,
     "metadata": {},
     "output_type": "execute_result"
    },
    {
     "data": {
      "image/png": "[encoded data removed]",
      "text/plain": [
       "<Figure size 432x288 with 2 Axes>"
      ]
     },
     "metadata": {
      "needs_background": "light"
     },
     "output_type": "display_data"
    }
   ],
   "source": [
    "# 数据可视化\n",
    "sns.set()\n",
    "f,ax=plt.subplots()\n",
    "C=confusion_matrix(y_test, y_pre, labels=[0, 1])\n",
    "sns.heatmap(C,annot=True,ax=ax,cmap=plt.cm.GnBu) #热力图\n",
    "\n",
    "ax.set_title('confusion matrix') #标题\n",
    "ax.set_xlabel('Predicted label') #x轴\n",
    "ax.set_ylabel('True label') #y轴"
   ]
  },
  {
   "cell_type": "markdown",
   "id": "89c456d6",
   "metadata": {},
   "source": [
    "## Logistic回归"
   ]
  },
  {
   "cell_type": "code",
   "execution_count": 7,
   "id": "d6488238",
   "metadata": {},
   "outputs": [
    {
     "name": "stdout",
     "output_type": "stream",
     "text": [
      "RMSE: 0.3456890214515769\n"
     ]
    }
   ],
   "source": [
    "from sklearn.linear_model import LogisticRegression\n",
    "\n",
    "RMSE = []\n",
    "\n",
    "for train_index, test_index in k_fold.split(x):\n",
    "    train_x, test_x = x.iloc[train_index], x.iloc[test_index]\n",
    "    train_y, test_y = y[train_index], y[test_index]\n",
    "    \n",
    "    LogisticModel = LogisticRegression()\n",
    "    LogisticModel = LogisticModel.fit(train_x,train_y)\n",
    "    y_pre = LogisticModel.predict(test_x)\n",
    "    RMSE.append(sqrt(MSE(y_pre,test_y)))\n",
    "\n",
    "print(\"RMSE:\",sum(RMSE) / len(RMSE))"
   ]
  },
  {
   "cell_type": "code",
   "execution_count": 8,
   "id": "5706889e",
   "metadata": {},
   "outputs": [
    {
     "name": "stdout",
     "output_type": "stream",
     "text": [
      "[1 1 1 1 1 1 1 1 1 1 1 1 0 1 1 1 1 0 1 0 1 0 0 1 1 1 0 0 0 1 1 1 1 1 1 0 1\n",
      " 1 0 1 1 1 1 0 1 0 0 1 0 1 1 0 0 1 0 1 1 1 1 1 0 1 1 1 1 1 1 1 1 1 1]\n"
     ]
    }
   ],
   "source": [
    "# logistic预测\n",
    "y_train = train_set['column_ai'].copy()\n",
    "x_train = train_set.drop('column_ai', axis=1)\n",
    "y_test = test_set['column_ai'].copy()\n",
    "x_test = test_set.drop('column_ai', axis=1)\n",
    "\n",
    "LogisticModel = LogisticRegression()\n",
    "LogisticModel = LogisticModel.fit(x_train,y_train)\n",
    "y_pre = LogisticModel.predict(x_test)\n",
    "print(y_pre)"
   ]
  },
  {
   "cell_type": "code",
   "execution_count": 9,
   "id": "987d7e20",
   "metadata": {},
   "outputs": [
    {
     "name": "stdout",
     "output_type": "stream",
     "text": [
      "RMSE = 0.37529331252040077\n",
      "\n",
      "Accuracy = 0.8591549295774648 \n",
      "Precision = 0.8113207547169812 \n",
      "Recall = 1.0 \n",
      "F1 = 0.8958333333333334\n"
     ]
    }
   ],
   "source": [
    "# 计算指标\n",
    "tp, fp, tn, fn = compute_confusion_matrix(y_pre, y_test)\n",
    "accuracy, precision, recall, F1 = compute_indexes(tp, fp, tn, fn)\n",
    "print(\"RMSE =\",sqrt(MSE(y_pre,y_test)))\n",
    "print(\"\\nAccuracy =\",accuracy, \"\\nPrecision =\",precision, \"\\nRecall =\",recall, \"\\nF1 =\",F1)"
   ]
  },
  {
   "cell_type": "markdown",
   "id": "ff5dafb7",
   "metadata": {},
   "source": [
    "## 随机森林"
   ]
  },
  {
   "cell_type": "code",
   "execution_count": 10,
   "id": "5ea21bbb",
   "metadata": {},
   "outputs": [
    {
     "name": "stdout",
     "output_type": "stream",
     "text": [
      "RMSE: 0.3883682501186126\n"
     ]
    }
   ],
   "source": [
    "from sklearn.linear_model import SGDClassifier\n",
    "sgd_clf = SGDClassifier(random_state=42)\n",
    "\n",
    "RMSE = []\n",
    "\n",
    "for train_index, test_index in k_fold.split(x):\n",
    "    train_x, test_x = x.iloc[train_index], x.iloc[test_index]\n",
    "    train_y, test_y = y[train_index], y[test_index]\n",
    "    \n",
    "    sgd_clf = sgd_clf.fit(train_x,train_y)\n",
    "    y_pre = sgd_clf.predict(test_x)\n",
    "    RMSE.append(sqrt(MSE(y_pre,test_y)))\n",
    "\n",
    "print(\"RMSE:\",sum(RMSE) / len(RMSE))"
   ]
  },
  {
   "cell_type": "code",
   "execution_count": 11,
   "id": "830ca9c0",
   "metadata": {},
   "outputs": [
    {
     "name": "stdout",
     "output_type": "stream",
     "text": [
      "[1 1 1 1 1 1 1 1 1 1 0 1 0 1 1 1 1 0 1 0 1 0 0 1 1 1 0 0 0 1 1 1 1 1 1 0 1\n",
      " 1 0 1 1 1 1 0 1 0 0 1 1 1 1 0 0 1 0 1 1 1 1 1 1 1 1 1 1 1 1 1 1 1 0]\n"
     ]
    }
   ],
   "source": [
    "# 随机森林\n",
    "y_train = train_set['column_ai'].copy()\n",
    "x_train = train_set.drop('column_ai', axis=1)\n",
    "y_test = test_set['column_ai'].copy()\n",
    "x_test = test_set.drop('column_ai', axis=1)\n",
    "\n",
    "sgd_clf = SGDClassifier(random_state=42)\n",
    "sgd_clf = sgd_clf.fit(x_train,y_train)\n",
    "y_pre = sgd_clf.predict(x_test)\n",
    "print(y_pre)"
   ]
  },
  {
   "cell_type": "code",
   "execution_count": 12,
   "id": "7b706d1a",
   "metadata": {},
   "outputs": [
    {
     "name": "stdout",
     "output_type": "stream",
     "text": [
      "RMSE = 0.37529331252040077\n",
      "\n",
      "Accuracy = 0.8591549295774648 \n",
      "Precision = 0.8113207547169812 \n",
      "Recall = 1.0 \n",
      "F1 = 0.8958333333333334\n"
     ]
    }
   ],
   "source": [
    "# 计算指标\n",
    "tp, fp, tn, fn = compute_confusion_matrix(y_pre, y_test)\n",
    "accuracy, precision, recall, F1 = compute_indexes(tp, fp, tn, fn)\n",
    "print(\"RMSE =\",sqrt(MSE(y_pre,y_test)))\n",
    "print(\"\\nAccuracy =\",accuracy, \"\\nPrecision =\",precision, \"\\nRecall =\",recall, \"\\nF1 =\",F1)"
   ]
  },
  {
   "cell_type": "markdown",
   "id": "0dbda9c4",
   "metadata": {},
   "source": [
    "根据实验结果选择SVM分类模型对数据进行分类预测"
   ]
  },
  {
   "cell_type": "markdown",
   "id": "6715b35f",
   "metadata": {},
   "source": [
    "## 训练SVM分类器"
   ]
  },
  {
   "cell_type": "code",
   "execution_count": 13,
   "id": "ea1e0b1e",
   "metadata": {},
   "outputs": [],
   "source": [
    "from sklearn.model_selection import cross_val_predict\n",
    "\n",
    "svc_clf = SVC(random_state=42)\n",
    "svc_clf.fit(x_train, y_train)\n",
    "y_scores = cross_val_predict(svc_clf, x_train, y_train, cv=10, method=\"decision_function\")"
   ]
  },
  {
   "cell_type": "code",
   "execution_count": 14,
   "id": "9318ea01",
   "metadata": {},
   "outputs": [],
   "source": [
    "from sklearn.metrics import precision_recall_curve\n",
    "precisions, recalls, thresholds = precision_recall_curve(y_train, y_scores)"
   ]
  },
  {
   "cell_type": "code",
   "execution_count": 15,
   "id": "dbb04a6a",
   "metadata": {},
   "outputs": [
    {
     "data": {
      "image/png": "[encoded data removed]",
      "text/plain": [
       "<Figure size 432x288 with 1 Axes>"
      ]
     },
     "metadata": {
      "needs_background": "light"
     },
     "output_type": "display_data"
    }
   ],
   "source": [
    "# 绘制精确率和召回率相对于阈值的函数图\n",
    "import matplotlib.pyplot as plt\n",
    "def plot_precision_recall_vs_threshold(precisions, recalls, thresholds):\n",
    "    plt.plot(thresholds, precisions[:-1], \"b--\", label=\"Precision\")\n",
    "    plt.plot(thresholds, recalls[:-1], \"g-\", label=\"Recall\")\n",
    "    plt.legend()\n",
    "plot_precision_recall_vs_threshold(precisions, recalls, thresholds)\n",
    "plt.show()"
   ]
  },
  {
   "cell_type": "code",
   "execution_count": 16,
   "id": "ce246542",
   "metadata": {},
   "outputs": [
    {
     "data": {
      "text/plain": [
       "Text(0, 0.5, 'precision')"
      ]
     },
     "execution_count": 16,
     "metadata": {},
     "output_type": "execute_result"
    },
    {
     "data": {
      "image/png": "[encoded data removed]",
      "text/plain": [
       "<Figure size 432x288 with 1 Axes>"
      ]
     },
     "metadata": {
      "needs_background": "light"
     },
     "output_type": "display_data"
    }
   ],
   "source": [
    "# 绘制精确率和召回率函数图\n",
    "plt.plot(recalls, precisions)\n",
    "plt.xlabel(\"recall\")\n",
    "plt.ylabel(\"precision\")"
   ]
  },
  {
   "cell_type": "code",
   "execution_count": 17,
   "id": "b0c1b6ef",
   "metadata": {},
   "outputs": [],
   "source": [
    "# 精确度选择为95%\n",
    "threshold_95_precision = thresholds[np.argmax(precisions >= 0.95)]\n",
    "y_train_pred_95 = (y_scores >= threshold_95_precision)"
   ]
  },
  {
   "cell_type": "code",
   "execution_count": 18,
   "id": "ed2344cf",
   "metadata": {},
   "outputs": [
    {
     "data": {
      "text/plain": [
       "0.9510869565217391"
      ]
     },
     "execution_count": 18,
     "metadata": {},
     "output_type": "execute_result"
    }
   ],
   "source": [
    "from sklearn.metrics import precision_score, recall_score\n",
    "precision_score(y_train, y_train_pred_95)"
   ]
  },
  {
   "cell_type": "code",
   "execution_count": 19,
   "id": "7d8e919d",
   "metadata": {},
   "outputs": [
    {
     "data": {
      "text/plain": [
       "0.9615384615384616"
      ]
     },
     "execution_count": 19,
     "metadata": {},
     "output_type": "execute_result"
    }
   ],
   "source": [
    "recall_score(y_train, y_train_pred_95)"
   ]
  },
  {
   "cell_type": "code",
   "execution_count": 20,
   "id": "3f0693a6",
   "metadata": {},
   "outputs": [
    {
     "data": {
      "image/png": "[encoded data removed]",
      "text/plain": [
       "<Figure size 432x288 with 1 Axes>"
      ]
     },
     "metadata": {
      "needs_background": "light"
     },
     "output_type": "display_data"
    }
   ],
   "source": [
    "from sklearn.metrics import roc_curve\n",
    "\n",
    "fpr, tpr, thresholds = roc_curve(y_train, y_scores)\n",
    "def plot_roc_curve(fpr, tpr, label=None):\n",
    "    plt.plot(fpr, tpr, linewidth=2, label=label)\n",
    "    plt.plot([0, 1], [0, 1], 'k--') # Dashed diagonal\n",
    "plot_roc_curve(fpr, tpr)\n",
    "plt.show()"
   ]
  },
  {
   "cell_type": "code",
   "execution_count": 21,
   "id": "bcd3f276",
   "metadata": {},
   "outputs": [
    {
     "data": {
      "text/plain": [
       "0.9760596546310831"
      ]
     },
     "execution_count": 21,
     "metadata": {},
     "output_type": "execute_result"
    }
   ],
   "source": [
    "from sklearn.metrics import roc_auc_score\n",
    "roc_auc_score(y_train, y_scores)"
   ]
  },
  {
   "cell_type": "code",
   "execution_count": 22,
   "id": "3696526e",
   "metadata": {},
   "outputs": [],
   "source": [
    "# 随机森林分类器\n",
    "from sklearn.ensemble import RandomForestClassifier\n",
    "forest_clf = RandomForestClassifier(random_state=42)\n",
    "y_probas_forest = cross_val_predict(forest_clf, x_train, y_train, cv=3, method=\"predict_proba\")"
   ]
  },
  {
   "cell_type": "code",
   "execution_count": 23,
   "id": "1866d24a",
   "metadata": {},
   "outputs": [],
   "source": [
    "y_scores_forest = y_probas_forest[:, 1] \n",
    "fpr_forest, tpr_forest, thresholds_forest = roc_curve(y_train,y_scores_forest)"
   ]
  },
  {
   "cell_type": "code",
   "execution_count": 24,
   "id": "dae27546",
   "metadata": {},
   "outputs": [
    {
     "data": {
      "image/png": "[encoded data removed]",
      "text/plain": [
       "<Figure size 432x288 with 1 Axes>"
      ]
     },
     "metadata": {
      "needs_background": "light"
     },
     "output_type": "display_data"
    }
   ],
   "source": [
    "plt.plot(fpr, tpr, \"b:\", label=\"SGD\")\n",
    "plot_roc_curve(fpr_forest, tpr_forest, \"Random Forest\")\n",
    "plt.legend(loc=\"lower right\")\n",
    "plt.show()"
   ]
  },
  {
   "cell_type": "markdown",
   "id": "15280e1f",
   "metadata": {},
   "source": [
    "## 实验结论\n",
    "SVM模型对于该数据集的分类具有较高的准确率，可以通过进一步聚类分析误差原因，优化预测模型"
   ]
  },
  {
   "cell_type": "markdown",
   "id": "59d3bb27",
   "metadata": {},
   "source": [
    "# 实验总结与体会\n",
    "在解决回归预测问题或分类预测问题时，需要先对数据集进行数据处理，清洗异常数据和缺失数据。然后对数据进行可视化分析，选择较为适合的预测模型进行回归或分类。\n",
    "\n",
    "当数据样本量较小时可以使用交叉验证优化模型，再通过调整相关参数或阈值选择较优模型。\n",
    "\n",
    "对于一个机器学习模型，需要通过相关文档查阅各参数的使用方法和优化结构，调整模型参数。\n",
    "\n",
    "对于预测得到的实验结果，可以通过对误差数据进行数据分析，优化初始模型结构。"
   ]
  }
 ],
 "metadata": {
  "kernelspec": {
   "display_name": "Python 3 (ipykernel)",
   "language": "python",
   "name": "python3"
  },
  "language_info": {
   "codemirror_mode": {
    "name": "ipython",
    "version": 3
   },
   "file_extension": ".py",
   "mimetype": "text/x-python",
   "name": "python",
   "nbconvert_exporter": "python",
   "pygments_lexer": "ipython3",
   "version": "3.10.5"
  }
 },
 "nbformat": 4,
 "nbformat_minor": 5
}
